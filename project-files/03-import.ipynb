{
 "cells": [
  {
   "cell_type": "code",
   "execution_count": null,
   "id": "e4c3f559-0397-41de-8c19-9913c562d51f",
   "metadata": {},
   "outputs": [],
   "source": [
    "import requests\n",
    "import json\n",
    "\n",
    "# Configurações\n",
    "auth_url = 'https://seu-endpoint-dadosfera.com/auth/signin'\n",
    "upload_url = 'https://seu-endpoint-dadosfera.com/upload/json'\n",
    "usuario = 'user@example.com'\n",
    "password = 'yourPassword'\n",
    "file_path = 'dataset/linhas_validas_com_features.json'\n",
    "\n",
    "# Função para autenticar e obter o token\n",
    "def get_auth_token(email, password):\n",
    "    response = requests.post(auth_url, json={\"usuario\": usuario, \"password\": password})\n",
    "    \n",
    "    if response.status_code == 200:\n",
    "        data = response.json()\n",
    "        return data.get('token')\n",
    "    else:\n",
    "        print(\"Falha na autenticação:\", response.status_code, response.text)\n",
    "        return None\n",
    "\n",
    "# Função para enviar o arquivo JSON\n",
    "def upload_file(token, file_path):\n",
    "    headers = {\n",
    "        'Authorization': f'Bearer {token}'\n",
    "    }\n",
    "    \n",
    "    with open(file_path, 'rb') as file:\n",
    "        files = {'file': file}\n",
    "        response = requests.post(upload_url, headers=headers, files=files)\n",
    "        \n",
    "        if response.status_code == 200:\n",
    "            data = response.json()\n",
    "            print(\"Arquivo enviado com sucesso!\")\n",
    "            print(\"Detalhes do Arquivo:\", data)\n",
    "        else:\n",
    "            print(\"Falha no upload do arquivo:\", response.status_code, response.text)\n",
    "\n",
    "# Execução do script\n",
    "token = get_auth_token(email, password)\n",
    "if token:\n",
    "    upload_file(token, file_path)\n"
   ]
  }
 ],
 "metadata": {
  "kernelspec": {
   "display_name": "Python 3",
   "language": "python",
   "name": "orchest-kernel-5f67c6a2-0a92-4b3e-aed6-a559206d38c5"
  },
  "language_info": {
   "codemirror_mode": {
    "name": "ipython",
    "version": 3
   },
   "file_extension": ".py",
   "mimetype": "text/x-python",
   "name": "python",
   "nbconvert_exporter": "python",
   "pygments_lexer": "ipython3",
   "version": "3.9.10"
  }
 },
 "nbformat": 4,
 "nbformat_minor": 5
}
