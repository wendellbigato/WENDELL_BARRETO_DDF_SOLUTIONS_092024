{
 "cells": [
  {
   "cell_type": "markdown",
   "id": "8c7f408d-b7bd-451e-b9b2-f2d82451c265",
   "metadata": {},
   "source": [
    "# Item 02 | Ingestão de dados"
   ]
  },
  {
   "cell_type": "code",
   "execution_count": 10,
   "id": "44e73c2d-b8ca-473c-b7c7-f3b42a79b4ec",
   "metadata": {},
   "outputs": [
    {
     "name": "stdout",
     "output_type": "stream",
     "text": [
      "Arquivo linhas_validas.csv criado com as 84 linhas válidas (dentro das primeiras 100 linhas).\n",
      "Arquivo linhas_excluidas.csv criado com os IDs das 16 linhas excluídas (dentro das primeiras 100 linhas).\n"
     ]
    }
   ],
   "source": [
    "from datasets import load_dataset\n",
    "import pandas as pd\n",
    "\n",
    "# Função para filtrar as N primeiras linhas válidas e salvar os IDs das linhas excluídas dentro do intervalo\n",
    "def salvar_n_linhas_validas_e_excluidas(dataset_name, split, num_linhas, output_csv_validas, output_csv_excluidas):\n",
    "    # Carregar o dataset do Hugging Face com confiança no código remoto\n",
    "    dataset = load_dataset(dataset_name, split=split, trust_remote_code=True)\n",
    "    \n",
    "    # Converter o dataset em um DataFrame do pandas\n",
    "    df = dataset.to_pandas()\n",
    "    \n",
    "    # Selecionar as primeiras N linhas do dataset (independentemente de serem válidas ou não)\n",
    "    df_inicial = df.head(num_linhas)\n",
    "    \n",
    "    # Criar uma máscara para identificar as linhas válidas:\n",
    "    # - Linhas onde 'text' e 'title' estão preenchidos\n",
    "    linhas_validas = (df_inicial['text'] != '') & (df_inicial['title'] != '')\n",
    "    \n",
    "    # Separar as linhas válidas\n",
    "    df_validas = df_inicial[linhas_validas]\n",
    "    \n",
    "    # Salvar o DataFrame de linhas válidas em um arquivo CSV\n",
    "    df_validas.to_csv(output_csv_validas, index=False)\n",
    "    print(f\"Arquivo {output_csv_validas} criado com as {len(df_validas)} linhas válidas (dentro das primeiras {num_linhas} linhas).\")\n",
    "    \n",
    "    # Identificar as linhas excluídas (dentro do mesmo intervalo)\n",
    "    df_excluidas = df_inicial[~linhas_validas]\n",
    "    \n",
    "    # Salvar os IDs (docid) das linhas excluídas em um arquivo CSV\n",
    "    df_excluidas[['docid']].to_csv(output_csv_excluidas, index=False)\n",
    "    print(f\"Arquivo {output_csv_excluidas} criado com os IDs das {len(df_excluidas)} linhas excluídas (dentro das primeiras {num_linhas} linhas).\")\n",
    "\n",
    "# Variáveis\n",
    "dataset_name = \"spacemanidol/product-search-corpus\"  # Nome do dataset no Hugging Face\n",
    "split = \"train\"  # Divisão do dataset (por exemplo, 'train', 'test')\n",
    "num_linhas = 100  # Número de linhas que você deseja analisar (válidas ou inválidas)\n",
    "output_csv_validas = \"linhas_validas.csv\"  # Nome do arquivo CSV de linhas válidas\n",
    "output_csv_excluidas = \"linhas_excluidas.csv\"  # Nome do arquivo CSV de linhas excluídas (IDs)\n",
    "\n",
    "# Chamar a função para salvar as N primeiras linhas válidas e os IDs das linhas excluídas\n",
    "salvar_n_linhas_validas_e_excluidas(dataset_name, split, num_linhas, output_csv_validas, output_csv_excluidas)\n"
   ]
  },
  {
   "cell_type": "code",
   "execution_count": 12,
   "id": "23d98c98-b515-4e67-9d3b-da151fda7195",
   "metadata": {},
   "outputs": [
    {
     "name": "stdout",
     "output_type": "stream",
     "text": [
      "{\"input\":{\"id\":\"c6d412bc-bf81-48ea-a0f1-1dffa382c689\",\"name\":\"fddfd\",\"plugin\":\"teste\",\"tables\":[{\"name\":\"Objeto 1\",\"columns\":[\"teste\",\"tetse\",\"etee\"],\"type\":\"type\"}],\"created_at\":\"2024-09-09T21:31:49.504Z\",\"description\":\"teste\"}}\n"
     ]
    }
   ],
   "source": [
    "import requests\n",
    "\n",
    "# Variáveis de autenticação\n",
    "email = \"wendellbarreto@gmail.com\"\n",
    "password = \"123456@Qwerty\"\n",
    "\n",
    "# Endpoints da API\n",
    "auth_url = \"https://dadosfera.api.com/auth/signin\"  # Substitua pela URL real da API\n",
    "upload_url = \"https://dadosfera.api.com/upload/json\"  # Substitua pela URL real da API\n",
    "\n",
    "# Função para autenticar e obter o token\n",
    "def autenticar(email, password):\n",
    "    headers = {'Content-Type': 'application/json'}\n",
    "    body = {\n",
    "        \"email\": email,\n",
    "        \"password\": password\n",
    "    }\n",
    "    \n",
    "    response = requests.post(auth_url, json=body, headers=headers)\n",
    "    \n",
    "    if response.status_code == 200:\n",
    "        token = response.json().get('token')\n",
    "        print(\"Autenticação bem-sucedida. Token recebido.\")\n",
    "        return token\n",
    "    else:\n",
    "        print(f\"Erro na autenticação: {response.status_code}\")\n",
    "        print(response.text)\n",
    "        return None\n",
    "\n",
    "# Função para fazer upload do arquivo JSON\n",
    "def upload_json_file(token, file_path):\n",
    "    headers = {\n",
    "        'Authorization': f'Bearer {token}'\n",
    "    }\n",
    "    \n",
    "    # Abrir o arquivo JSON e enviar como parte do corpo da requisição\n",
    "    with open(file_path, 'rb') as file:\n",
    "        files = {\n",
    "            'file': (file_path, file, 'application/json')\n",
    "        }\n",
    "        response = requests.post(upload_url, headers=headers, files=files)\n",
    "        \n",
    "        if response.status_code == 200:\n",
    "            print(\"Upload bem-sucedido.\")\n",
    "            print(response.json())\n",
    "        else:\n",
    "            print(f\"Erro no upload: {response.status_code}\")\n",
    "            print(response.text)\n",
    "\n",
    "# Autenticação e obtenção do token\n",
    "token = autenticar(email, password)\n",
    "\n",
    "# Verifica se a autenticação foi bem-sucedida antes de continuar\n",
    "if token:\n",
    "    # Caminho para o arquivo JSON a ser enviado\n",
    "    json_file_path = \"caminho_para_seu_arquivo.json\"\n",
    "    \n",
    "    # Fazer upload do arquivo JSON\n",
    "    upload_json_file(token, json_file_path)\n"
   ]
  },
  {
   "cell_type": "code",
   "execution_count": null,
   "id": "29b18cec-b634-43b8-8911-8de61736825f",
   "metadata": {},
   "outputs": [],
   "source": []
  }
 ],
 "metadata": {
  "kernelspec": {
   "display_name": "Python 3 (ipykernel)",
   "language": "python",
   "name": "python3"
  },
  "language_info": {
   "codemirror_mode": {
    "name": "ipython",
    "version": 3
   },
   "file_extension": ".py",
   "mimetype": "text/x-python",
   "name": "python",
   "nbconvert_exporter": "python",
   "pygments_lexer": "ipython3",
   "version": "3.11.9"
  }
 },
 "nbformat": 4,
 "nbformat_minor": 5
}
