{
 "cells": [
  {
   "cell_type": "code",
   "execution_count": 1,
   "id": "a2ec6e69-141b-4494-a7fb-80d6f4c52eb0",
   "metadata": {},
   "outputs": [
    {
     "name": "stderr",
     "output_type": "stream",
     "text": [
      "/home/wendell/anaconda3/envs/dadosfera_env/lib/python3.11/site-packages/tqdm/auto.py:21: TqdmWarning: IProgress not found. Please update jupyter and ipywidgets. See https://ipywidgets.readthedocs.io/en/stable/user_install.html\n",
      "  from .autonotebook import tqdm as notebook_tqdm\n",
      "Generating train split: 1118658 examples [00:41, 26897.07 examples/s]\n"
     ]
    },
    {
     "name": "stdout",
     "output_type": "stream",
     "text": [
      "DatasetDict({\n",
      "    train: Dataset({\n",
      "        features: ['docid', 'title', 'text'],\n",
      "        num_rows: 1118658\n",
      "    })\n",
      "})\n",
      "  docid                                              title  \\\n",
      "0     1  FYY Leather Case with Mirror for Samsung Galax...   \n",
      "1     2  Playtex Women's 18 Hour Easy On, Easy Off Fron...   \n",
      "2     4  YUEPIN U-Tube Clamp 304 Stainless Steel Hose P...   \n",
      "3     5            Bruce's Big Storm (Mother Bruce Series)   \n",
      "4     6  DJI Shoulder Neck Strap Belt Sling Lanyard Nec...   \n",
      "\n",
      "                                                text  \n",
      "0  Product Description Premium PU Leather Top qua...  \n",
      "1  Product Description Introducing Playtex 18 hou...  \n",
      "2  Product Description Specification: Material: 3...  \n",
      "3                                                     \n",
      "4  Product Description Specifications: Item Condi...  \n"
     ]
    }
   ],
   "source": [
    "from datasets import load_dataset\n",
    "\n",
    "# Carregue o dataset do Hugging Face com confiança no código remoto\n",
    "dataset = load_dataset(\"spacemanidol/product-search-corpus\", trust_remote_code=True)\n",
    "\n",
    "# Verifique as divisões do dataset\n",
    "print(dataset)\n",
    "\n",
    "# Para carregar o conjunto de treino em um DataFrame do pandas\n",
    "df = dataset['train'].to_pandas()\n",
    "\n",
    "# Exibir as primeiras linhas do DataFrame\n",
    "print(df.head())\n"
   ]
  },
  {
   "cell_type": "code",
   "execution_count": 2,
   "id": "3e5f0a0b-8d35-4dc1-b101-d286a3a80f11",
   "metadata": {},
   "outputs": [
    {
     "name": "stdout",
     "output_type": "stream",
     "text": [
      "  docid                                              title  \\\n",
      "0     1  FYY Leather Case with Mirror for Samsung Galax...   \n",
      "1     2  Playtex Women's 18 Hour Easy On, Easy Off Fron...   \n",
      "2     4  YUEPIN U-Tube Clamp 304 Stainless Steel Hose P...   \n",
      "3     5            Bruce's Big Storm (Mother Bruce Series)   \n",
      "4     6  DJI Shoulder Neck Strap Belt Sling Lanyard Nec...   \n",
      "5     7  Crocs Jibbitz 5-Pack Alien Shoe Charms | Jibbi...   \n",
      "6    10  Design Toscano QM2787100 Darby, the Forest Faw...   \n",
      "7    11  Zeagoo Women's Open Front Cardigan 3/4 Sleeve ...   \n",
      "8    12  Rekayla Open Toe Tie Up Ankle Wrap Flat Sandal...   \n",
      "9    13  Apron for Women, Waterproof Adjustable Bib Coo...   \n",
      "\n",
      "                                                text  \n",
      "0  Product Description Premium PU Leather Top qua...  \n",
      "1  Product Description Introducing Playtex 18 hou...  \n",
      "2  Product Description Specification: Material: 3...  \n",
      "3                                                     \n",
      "4  Product Description Specifications: Item Condi...  \n",
      "5  From the brand Previous page Shop Crocs Collec...  \n",
      "6                                                     \n",
      "7  From the brand Lightweight Cardigan Previous p...  \n",
      "8  From the brand Previous page REKAYLA is a fres...  \n",
      "9                                                     \n"
     ]
    }
   ],
   "source": [
    "print(df.head(10))  # Exibe as primeiras 10 linhas\n"
   ]
  },
  {
   "cell_type": "code",
   "execution_count": 5,
   "id": "4d5b5e27-22db-40f4-bf0f-351bfbc4a7a8",
   "metadata": {},
   "outputs": [
    {
     "data": {
      "text/html": [
       "<div>\n",
       "<style scoped>\n",
       "    .dataframe tbody tr th:only-of-type {\n",
       "        vertical-align: middle;\n",
       "    }\n",
       "\n",
       "    .dataframe tbody tr th {\n",
       "        vertical-align: top;\n",
       "    }\n",
       "\n",
       "    .dataframe thead th {\n",
       "        text-align: right;\n",
       "    }\n",
       "</style>\n",
       "<table border=\"1\" class=\"dataframe\">\n",
       "  <thead>\n",
       "    <tr style=\"text-align: right;\">\n",
       "      <th></th>\n",
       "      <th>train</th>\n",
       "    </tr>\n",
       "  </thead>\n",
       "  <tbody>\n",
       "    <tr>\n",
       "      <th>0</th>\n",
       "      <td>{'docid': '1', 'title': 'FYY Leather Case with...</td>\n",
       "    </tr>\n",
       "    <tr>\n",
       "      <th>1</th>\n",
       "      <td>{'docid': '2', 'title': 'Playtex Women's 18 Ho...</td>\n",
       "    </tr>\n",
       "    <tr>\n",
       "      <th>2</th>\n",
       "      <td>{'docid': '4', 'title': 'YUEPIN U-Tube Clamp 3...</td>\n",
       "    </tr>\n",
       "    <tr>\n",
       "      <th>3</th>\n",
       "      <td>{'docid': '5', 'title': 'Bruce's Big Storm (Mo...</td>\n",
       "    </tr>\n",
       "    <tr>\n",
       "      <th>4</th>\n",
       "      <td>{'docid': '6', 'title': 'DJI Shoulder Neck Str...</td>\n",
       "    </tr>\n",
       "    <tr>\n",
       "      <th>5</th>\n",
       "      <td>{'docid': '7', 'title': 'Crocs Jibbitz 5-Pack ...</td>\n",
       "    </tr>\n",
       "    <tr>\n",
       "      <th>6</th>\n",
       "      <td>{'docid': '10', 'title': 'Design Toscano QM278...</td>\n",
       "    </tr>\n",
       "    <tr>\n",
       "      <th>7</th>\n",
       "      <td>{'docid': '11', 'title': 'Zeagoo Women's Open ...</td>\n",
       "    </tr>\n",
       "    <tr>\n",
       "      <th>8</th>\n",
       "      <td>{'docid': '12', 'title': 'Rekayla Open Toe Tie...</td>\n",
       "    </tr>\n",
       "    <tr>\n",
       "      <th>9</th>\n",
       "      <td>{'docid': '13', 'title': 'Apron for Women, Wat...</td>\n",
       "    </tr>\n",
       "  </tbody>\n",
       "</table>\n",
       "</div>"
      ],
      "text/plain": [
       "                                               train\n",
       "0  {'docid': '1', 'title': 'FYY Leather Case with...\n",
       "1  {'docid': '2', 'title': 'Playtex Women's 18 Ho...\n",
       "2  {'docid': '4', 'title': 'YUEPIN U-Tube Clamp 3...\n",
       "3  {'docid': '5', 'title': 'Bruce's Big Storm (Mo...\n",
       "4  {'docid': '6', 'title': 'DJI Shoulder Neck Str...\n",
       "5  {'docid': '7', 'title': 'Crocs Jibbitz 5-Pack ...\n",
       "6  {'docid': '10', 'title': 'Design Toscano QM278...\n",
       "7  {'docid': '11', 'title': 'Zeagoo Women's Open ...\n",
       "8  {'docid': '12', 'title': 'Rekayla Open Toe Tie...\n",
       "9  {'docid': '13', 'title': 'Apron for Women, Wat..."
      ]
     },
     "execution_count": 5,
     "metadata": {},
     "output_type": "execute_result"
    }
   ],
   "source": [
    "import pandas as pd\n",
    "\n",
    "# Criando o DataFrame\n",
    "df = pd.DataFrame(dataset)\n",
    "\n",
    "# Exibir as primeiras 10 linhas como tabela\n",
    "df.head(10)"
   ]
  },
  {
   "cell_type": "code",
   "execution_count": 39,
   "id": "cc2656a6-d3e1-4f38-b1bd-5546ebaefa5f",
   "metadata": {},
   "outputs": [],
   "source": [
    "import requests\n",
    "\n",
    "dataset_hf = \"spacemanidol/product-search-corpus\"\n",
    "API_URL = f\"https://datasets-server.huggingface.co/first-rows?dataset={dataset_hf}\"\n"
   ]
  },
  {
   "cell_type": "code",
   "execution_count": 42,
   "id": "85f7eb33-0814-4717-bd87-570801797fa7",
   "metadata": {},
   "outputs": [],
   "source": [
    "API_URL = \"https://datasets-server.huggingface.co/first-rows?dataset=pacemanidol/product-search-corpus\"\n",
    "\n",
    "def query():\n",
    "    response = requests.get(API_URL)\n",
    "    return response.json()\n",
    "data = query()"
   ]
  },
  {
   "cell_type": "code",
   "execution_count": 43,
   "id": "9c3137c1-adde-44ea-ab03-a1a19f1064fa",
   "metadata": {},
   "outputs": [
    {
     "data": {
      "text/plain": [
       "{'error': \"Parameters 'dataset', 'config' and 'split' are required\"}"
      ]
     },
     "execution_count": 43,
     "metadata": {},
     "output_type": "execute_result"
    }
   ],
   "source": [
    "data"
   ]
  },
  {
   "cell_type": "markdown",
   "id": "bd620001-7144-451b-9b93-88ab68a83e56",
   "metadata": {},
   "source": [
    "Nome da pipeline\n",
    "spacemanidol/product-search-corpus\n",
    "\n",
    "Descrição\n",
    "Carregamento spacemanidol/product-search-corpus para execução do Case Tech Felipe_Reis_DDF_DATAENG_062024\n",
    "\n",
    "Configurações\n",
    "API URL:https://huggingface.co/api/datasets/spacemanidol/product-search-corpus\n",
    "Replication Method:FULL_TABLE\n",
    "Name (required):FELIPE_REIS_DDF_DATA_ENG_STREAM\n",
    "Primary Keys (required):STREAM_01\n",
    "Path (optional):-\n",
    "Records Path (optional):-\n",
    "Number of Inference Records:50\n",
    "Parameters (optional):[object Object]\n",
    "Page size (optional):-"
   ]
  },
  {
   "cell_type": "code",
   "execution_count": null,
   "id": "2505680f-e820-4984-956d-7a458a06b7a2",
   "metadata": {},
   "outputs": [],
   "source": [
    "import requests\n",
    "\n",
    "# Defina seu token da API Hugging Face se for necessário\n",
    "API_TOKEN = \"seu_token_aqui\"\n",
    "headers = {\"\"}\n",
    "\n",
    "# Endpoint da API para buscar um slice de linhas\n",
    "API_URL = \"https://datasets-server.huggingface.co/rows?dataset=spacemanidol/product-search-corpus&config=default&split=train&offset=0&length=10\"\n",
    "\n",
    "# Função para consultar a API e retornar os dados\n",
    "def query():\n",
    "    response = requests.get(API_URL, headers=headers)\n",
    "    return response.json()\n",
    "\n",
    "# Consultar a API e exibir os resultados\n",
    "data = query()\n",
    "\n",
    "# Exibindo os dados obtidos (features e as primeiras 10 linhas)\n",
    "print(\"Features:\")\n",
    "for feature in data['features']:\n",
    "    print(f\" - {feature['name']} ({feature['type']['dtype']})\")\n",
    "\n",
    "print(\"\\nRows:\")\n",
    "for row in data['rows']:\n",
    "    print(row['row'])\n"
   ]
  }
 ],
 "metadata": {
  "kernelspec": {
   "display_name": "Python 3 (ipykernel)",
   "language": "python",
   "name": "python3"
  },
  "language_info": {
   "codemirror_mode": {
    "name": "ipython",
    "version": 3
   },
   "file_extension": ".py",
   "mimetype": "text/x-python",
   "name": "python",
   "nbconvert_exporter": "python",
   "pygments_lexer": "ipython3",
   "version": "3.11.9"
  }
 },
 "nbformat": 4,
 "nbformat_minor": 5
}
