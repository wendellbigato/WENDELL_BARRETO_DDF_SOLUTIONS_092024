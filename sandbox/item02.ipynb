{
 "cells": [
  {
   "cell_type": "markdown",
   "id": "8c7f408d-b7bd-451e-b9b2-f2d82451c265",
   "metadata": {},
   "source": [
    "# Item 02 | Ingestão de dados"
   ]
  },
  {
   "cell_type": "code",
   "execution_count": 10,
   "id": "44e73c2d-b8ca-473c-b7c7-f3b42a79b4ec",
   "metadata": {},
   "outputs": [
    {
     "name": "stdout",
     "output_type": "stream",
     "text": [
      "Arquivo linhas_validas.csv criado com as 84 linhas válidas (dentro das primeiras 100 linhas).\n",
      "Arquivo linhas_excluidas.csv criado com os IDs das 16 linhas excluídas (dentro das primeiras 100 linhas).\n"
     ]
    }
   ],
   "source": [
    "from datasets import load_dataset\n",
    "import pandas as pd\n",
    "\n",
    "# Função para filtrar as N primeiras linhas válidas e salvar os IDs das linhas excluídas dentro do intervalo\n",
    "def salvar_n_linhas_validas_e_excluidas(dataset_name, split, num_linhas, output_csv_validas, output_csv_excluidas):\n",
    "    # Carregar o dataset do Hugging Face com confiança no código remoto\n",
    "    dataset = load_dataset(dataset_name, split=split, trust_remote_code=True)\n",
    "    \n",
    "    # Converter o dataset em um DataFrame do pandas\n",
    "    df = dataset.to_pandas()\n",
    "    \n",
    "    # Selecionar as primeiras N linhas do dataset (independentemente de serem válidas ou não)\n",
    "    df_inicial = df.head(num_linhas)\n",
    "    \n",
    "    # Criar uma máscara para identificar as linhas válidas:\n",
    "    # - Linhas onde 'text' e 'title' estão preenchidos\n",
    "    linhas_validas = (df_inicial['text'] != '') & (df_inicial['title'] != '')\n",
    "    \n",
    "    # Separar as linhas válidas\n",
    "    df_validas = df_inicial[linhas_validas]\n",
    "    \n",
    "    # Salvar o DataFrame de linhas válidas em um arquivo CSV\n",
    "    df_validas.to_csv(output_csv_validas, index=False)\n",
    "    print(f\"Arquivo {output_csv_validas} criado com as {len(df_validas)} linhas válidas (dentro das primeiras {num_linhas} linhas).\")\n",
    "    \n",
    "    # Identificar as linhas excluídas (dentro do mesmo intervalo)\n",
    "    df_excluidas = df_inicial[~linhas_validas]\n",
    "    \n",
    "    # Salvar os IDs (docid) das linhas excluídas em um arquivo CSV\n",
    "    df_excluidas[['docid']].to_csv(output_csv_excluidas, index=False)\n",
    "    print(f\"Arquivo {output_csv_excluidas} criado com os IDs das {len(df_excluidas)} linhas excluídas (dentro das primeiras {num_linhas} linhas).\")\n",
    "\n",
    "# Variáveis\n",
    "dataset_name = \"spacemanidol/product-search-corpus\"  # Nome do dataset no Hugging Face\n",
    "split = \"train\"  # Divisão do dataset (por exemplo, 'train', 'test')\n",
    "num_linhas = 100  # Número de linhas que você deseja analisar (válidas ou inválidas)\n",
    "output_csv_validas = \"linhas_validas.csv\"  # Nome do arquivo CSV de linhas válidas\n",
    "output_csv_excluidas = \"linhas_excluidas.csv\"  # Nome do arquivo CSV de linhas excluídas (IDs)\n",
    "\n",
    "# Chamar a função para salvar as N primeiras linhas válidas e os IDs das linhas excluídas\n",
    "salvar_n_linhas_validas_e_excluidas(dataset_name, split, num_linhas, output_csv_validas, output_csv_excluidas)\n"
   ]
  },
  {
   "cell_type": "code",
   "execution_count": null,
   "id": "783e127f-c7aa-436f-ae11-0b6506aff77d",
   "metadata": {},
   "outputs": [],
   "source": []
  }
 ],
 "metadata": {
  "kernelspec": {
   "display_name": "Python 3 (ipykernel)",
   "language": "python",
   "name": "python3"
  },
  "language_info": {
   "codemirror_mode": {
    "name": "ipython",
    "version": 3
   },
   "file_extension": ".py",
   "mimetype": "text/x-python",
   "name": "python",
   "nbconvert_exporter": "python",
   "pygments_lexer": "ipython3",
   "version": "3.11.9"
  }
 },
 "nbformat": 4,
 "nbformat_minor": 5
}
